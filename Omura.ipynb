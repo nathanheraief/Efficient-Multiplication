{
 "cells": [
  {
   "cell_type": "markdown",
   "metadata": {},
   "source": [
    "# Algorithme d'addition modulaire d'Omura\n",
    "\n",
    "Entrées : $p=(p_{n-1},...,p_0) \\in \\mathbb{R}^n\\\\\n",
    "          m,\\\\\n",
    "          sub_i(\\text{1 bit pour savoir si tu additionne ou si tu soustrais B})\\\\\n",
    "          A=(0,a_{n-1},...a0) \\in \\mathbb{R}^{n+1} \\ A <2*p ,\\\\ \n",
    "          B=(0,bn-1,...,b0) \\in \\mathbb{R}^{n+1} \\ B <2*p \\\\\n",
    "          (\\text{on ajoute un 0 sur le bit de poids fort pour passer en\n",
    "            complément à deux si on soustrait})$\n",
    "            \n",
    "Sortie : R=A+B mod P  (R<2*p)\n",
    "\n",
    "Début :\n",
    "\n",
    "    S=A(+ ou -) B (<4*P)\n",
    "    \n",
    "    S'=Complément_à_deux(S) (=-S)\n",
    "    \n",
    "    S\"=S+m (=2^n-2*p+S)\n",
    "    \n",
    "    Si S> 2^(n+1) (si S est négatif)\n",
    "    \n",
    "        Return S' (Alors on renvoit -S qui est <2*p)\n",
    "        \n",
    "    Sinon Si S\">2^n (ie si -2*p+S>0 ie S >2*p)\n",
    "    \n",
    "        Return S\" mod 2^n (=S+2^n-2*p mod (2^n) =S-2*p qui est <2*p)\n",
    "        \n",
    "    Sinon (Si S<2*p)\n",
    "    \n",
    "    Return S\n",
    "Fin\n",
    "\n",
    "## 1. Implémentation Python"
   ]
  },
  {
   "cell_type": "markdown",
   "metadata": {},
   "source": [
    "### 1.1 Fonctions utiles"
   ]
  },
  {
   "cell_type": "code",
   "execution_count": 143,
   "metadata": {},
   "outputs": [],
   "source": [
    "def twos_comp(val, bits):\n",
    "    \"\"\"compute the 2's complement of int value val\"\"\"\n",
    "    if (val & (1 << (bits - 1))) != 0: # if sign bit is set e.g., 8bit: 128-255\n",
    "        val = val - (1 << bits)        # compute negative value\n",
    "    return val                         # return positive value as is\n",
    "\n",
    "def padding_left(A,n):\n",
    "    m = n-(len(A)-2)\n",
    "    if m >= 0:\n",
    "        return ('0'*m)+A[2:]\n",
    "    else:\n",
    "        return -1\n",
    "\n",
    "def dec_to_bin(A):\n",
    "    return bin(A)\n",
    "\n",
    "def dec_to_hex(A):\n",
    "    return hex(A)"
   ]
  },
  {
   "cell_type": "markdown",
   "metadata": {},
   "source": [
    "### 1.2 Algorithme Omura"
   ]
  },
  {
   "cell_type": "code",
   "execution_count": 144,
   "metadata": {},
   "outputs": [],
   "source": [
    "def additionOmura(p, m, sub_i, A, B):\n",
    "    if sub_i == 1 :\n",
    "        B = twos_comp(int(B,2), len(B))\n",
    "    S = bin(int(A,2) + int(B,2))\n",
    "    Sp = twos_comp(int(S, 2), len(S))\n",
    "    Spp = bin(int(S,2) + int(m,2))\n",
    "    if S[0] == '1':\n",
    "        return Sp\n",
    "    elif Spp[1] =='1':\n",
    "        Pp = bin(int(p,2) << 1)\n",
    "        Ppp = twos_comp(int(Pp,2), len(Pp))\n",
    "        return bin(int(S,2) + int(Ppp,2))\n",
    "    else :\n",
    "        return S\n",
    "    "
   ]
  },
  {
   "cell_type": "markdown",
   "metadata": {},
   "source": [
    "## 2. Paramètres"
   ]
  },
  {
   "cell_type": "code",
   "execution_count": 145,
   "metadata": {},
   "outputs": [],
   "source": [
    "p = 90513453509027837323015498966524467238615948271053123433025004142597079434172244878153242162500117528739179878419894291934572639098823619146067881891097102019540945709105921\n",
    "n = 577\n",
    "m = 2**n - 2*p"
   ]
  },
  {
   "cell_type": "markdown",
   "metadata": {},
   "source": [
    "## 3. Tests "
   ]
  },
  {
   "cell_type": "code",
   "execution_count": 146,
   "metadata": {},
   "outputs": [
    {
     "data": {
      "text/plain": [
       "247330401473104534060502521019647190035131349101211839914063056092897225106531867170316401061243044989597671426016139339351365034306751209967546155101893167916606772148699136"
      ]
     },
     "execution_count": 146,
     "metadata": {},
     "output_type": "execute_result"
    }
   ],
   "source": [
    "(2**(n-1))"
   ]
  },
  {
   "cell_type": "code",
   "execution_count": 147,
   "metadata": {},
   "outputs": [],
   "source": [
    "a = 247330401473104534060502521019647190035131349101211839914063056092897225106531867170316401061243044989597671426016139339351365034306751209967546155101893167916606772148699136\n",
    "b = 1\n",
    "\n",
    "A = dec_to_bin(a)\n",
    "B = dec_to_bin(b)\n",
    "\n",
    "A = padding_left(A, n+1)\n",
    "B = padding_left(B, n+1)\n",
    "\n",
    "m = dec_to_bin(m)\n",
    "p = dec_to_bin(p)"
   ]
  },
  {
   "cell_type": "code",
   "execution_count": 148,
   "metadata": {},
   "outputs": [
    {
     "data": {
      "text/plain": [
       "'0b1000000000000000000000000000000000000000000000000000000000000000000000000000000000000000000000000000000000000000000000000000000000000000000000000000000000000000000000000000000000000000000000000000000000000000000000000000000000000000000000000000000000000000000000000000000000000000000000000000000000000000000000000000000000000000000000000000000000000000000000000000000000000000000000000000000000000000000000000000000000000000000000000000000000000000000000000000000000000000000000000000000000000000000000000000000000000000000000000000000000000000000000000000000000000000000000001'"
      ]
     },
     "execution_count": 148,
     "metadata": {},
     "output_type": "execute_result"
    }
   ],
   "source": [
    "additionOmura(p,m,0,A,B)"
   ]
  },
  {
   "cell_type": "code",
   "execution_count": null,
   "metadata": {},
   "outputs": [],
   "source": []
  },
  {
   "cell_type": "code",
   "execution_count": null,
   "metadata": {},
   "outputs": [],
   "source": []
  }
 ],
 "metadata": {
  "kernelspec": {
   "display_name": "Python 3",
   "language": "python",
   "name": "python3"
  },
  "language_info": {
   "codemirror_mode": {
    "name": "ipython",
    "version": 3
   },
   "file_extension": ".py",
   "mimetype": "text/x-python",
   "name": "python",
   "nbconvert_exporter": "python",
   "pygments_lexer": "ipython3",
   "version": "3.6.5"
  }
 },
 "nbformat": 4,
 "nbformat_minor": 2
}
