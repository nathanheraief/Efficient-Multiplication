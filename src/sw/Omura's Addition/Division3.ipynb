{
 "cells": [
  {
   "cell_type": "markdown",
   "metadata": {},
   "source": [
    "# Algorithme de division modulaire par 3\n",
    "\n",
    "Entrées : $a=(a_{w-1},a_{w-2},...,a_0) \\in \\mathbb{F}^q$ of $w$ 32-bit words\n",
    "\n",
    "Sorties : $a' = a/3 =  a'_{w-1},a'_{w-2} ... a'_0, \\\\$   r such that $a = 3a' +r $\n",
    "\n",
    "~~~\n",
    "a′w−1 ← aw−1 div 3;  \n",
    "carry ← aw−1 mod 3  \n",
    "for l←w−2,...,0 do  \n",
    "    if carry = 0 then  \n",
    "        a′l ← al div 3; carry ← al mod 3  \n",
    "    else  \n",
    "        if carry=1then  \n",
    "            a′l ← 0x55555555 + (al div 3)  \n",
    "            carry ← carry + (al mod 3)   \n",
    "        else  \n",
    "            a′l ← 0xaaaaaaaa + (al div 3)  \n",
    "            carry ← carry + (al mod 3) \n",
    "         end if  \n",
    "        if carry 􏰅 3 then   \n",
    "            carry ← carry−3;  \n",
    "             a′l←a′l+1  \n",
    "        end if   \n",
    "    end if  \n",
    "end for  \n",
    "\n",
    "return (a′, carry)                    \n",
    "\n",
    "~~~\n",
    "\n",
    "## 1. Implémentation Python"
   ]
  },
  {
   "cell_type": "code",
   "execution_count": 67,
   "metadata": {},
   "outputs": [],
   "source": [
    "import numpy as np\n",
    "\n",
    "def div3(A):\n",
    "    n = len(A)-1\n",
    "    result = np.zeros(n)\n",
    "    result[-1] = int(A[n],2) // 3\n",
    "    carry = int(A[n],2) % 3\n",
    "    for l in range(n-1,0,-1):\n",
    "        \n",
    "        if( carry == 0 ):\n",
    "            result[l] = int(A[l],2) // 3\n",
    "            carry = int(A[l],2) % 3\n",
    "            \n",
    "        else:\n",
    "            \n",
    "            if( carry == 1 ):\n",
    "                result[l] = int(0x55555555,16) + (int(A[l],2) // 3)\n",
    "                carry += int(A[l],2) % 3\n",
    "                \n",
    "            else:\n",
    "                result[l] = int(0xaaaaaaaa,16) + (int(A[l],2) // 3)\n",
    "                carry += int(A[l],2) % 3\n",
    "                \n",
    "            if( carry >= 3 ):\n",
    "                carry -= 3\n",
    "                result[l] += 1\n",
    "            \n",
    "    return result, carry\n",
    "\n",
    "\n",
    "def packer(A):\n",
    "    result = []\n",
    "    for i in range(16):\n",
    "        result.append(A[(i*32):(i+1)*32])\n",
    "    return result"
   ]
  },
  {
   "cell_type": "markdown",
   "metadata": {},
   "source": [
    "## 2. Paramètres"
   ]
  },
  {
   "cell_type": "code",
   "execution_count": 69,
   "metadata": {},
   "outputs": [
    {
     "name": "stdout",
     "output_type": "stream",
     "text": [
      "['00000000000000000000000000000000', '00000000000000000000000000000000', '00000000000000000000000000000000', '00000000000000000000000000000000', '00000000000000000000000000000000', '00000000000000000000000000000000', '00000000000000000000000000000000', '00000000000000000000000000000000', '11111111111111111111111111111111', '11111111111111111111111111111111', '11111111111111111111111111111111', '11111111111111111111111111111111', '11111111111111111111111111111111', '11111111111111111111111111111111', '11111111111111111111111111111111', '11111111111111111111111111111111']\n"
     ]
    }
   ],
   "source": [
    "n = 32\n",
    "A = '{0:0512b}'.format(2**256 - 1)\n",
    "A = packer(A)\n",
    "print(A)"
   ]
  },
  {
   "cell_type": "markdown",
   "metadata": {},
   "source": [
    "## 3. Tests "
   ]
  },
  {
   "cell_type": "code",
   "execution_count": 70,
   "metadata": {},
   "outputs": [
    {
     "name": "stdout",
     "output_type": "stream",
     "text": [
      "(array([0.00000000e+00, 0.00000000e+00, 0.00000000e+00, 0.00000000e+00,\n",
      "       0.00000000e+00, 0.00000000e+00, 0.00000000e+00, 0.00000000e+00,\n",
      "       1.43165576e+09, 1.43165576e+09, 1.43165576e+09, 1.43165576e+09,\n",
      "       1.43165576e+09, 1.43165576e+09, 1.43165576e+09]), 0)\n"
     ]
    }
   ],
   "source": [
    "print(div3(A))"
   ]
  },
  {
   "cell_type": "code",
   "execution_count": null,
   "metadata": {},
   "outputs": [],
   "source": []
  },
  {
   "cell_type": "code",
   "execution_count": null,
   "metadata": {},
   "outputs": [],
   "source": []
  }
 ],
 "metadata": {
  "kernelspec": {
   "display_name": "Python 3",
   "language": "python",
   "name": "python3"
  },
  "language_info": {
   "codemirror_mode": {
    "name": "ipython",
    "version": 3
   },
   "file_extension": ".py",
   "mimetype": "text/x-python",
   "name": "python",
   "nbconvert_exporter": "python",
   "pygments_lexer": "ipython3",
   "version": "3.6.8"
  }
 },
 "nbformat": 4,
 "nbformat_minor": 2
}
