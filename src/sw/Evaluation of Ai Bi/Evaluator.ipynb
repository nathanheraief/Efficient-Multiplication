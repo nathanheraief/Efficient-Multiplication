{
 "cells": [
  {
   "cell_type": "code",
   "execution_count": 4,
   "metadata": {},
   "outputs": [],
   "source": [
    "def evaluator(A):\n",
    "    Result = []\n",
    "    \n",
    "    Sp1 = A[0] + A[2] + A[4]\n",
    "    Si1 = A[1] + A[3]\n",
    "    Result.append(Sp1 + Si1)\n",
    "    Result.append(Sp1 - Si1)\n",
    "    \n",
    "    Sp2 = A[0] + 2**2 * A[2] + 2**4 * A[4]\n",
    "    Si2 = 2 * A[1] + 2**3 * A[3]\n",
    "    Result.append(Sp2 + Si2)\n",
    "    Result.append(Sp2 - Si2)\n",
    "    \n",
    "    Sp4 = A[0] + 2**4 * A[2] + 2**8 * A[4]\n",
    "    Si4 = 2**2 * A[1] + 2**6 * A[3]\n",
    "    Result.append(Sp4 + Si4)\n",
    "    Result.append(Sp4 - Si4)\n",
    "    \n",
    "    Result.append(Result[0] + 2**-1 * Si4 + 2**3 * A[2] - 2**2 * A[3] + 2**6 * A[4] + 2**4 * A[4])\n",
    "    \n",
    "    return Result\n",
    "    \n",
    "    "
   ]
  },
  {
   "cell_type": "code",
   "execution_count": 7,
   "metadata": {},
   "outputs": [
    {
     "name": "stdout",
     "output_type": "stream",
     "text": [
      "[10, 2, 62, 22, 682, 410, 246.0]\n"
     ]
    }
   ],
   "source": [
    "A2 = [2, 2, 2, 2, 2]\n",
    "A1 = [1, 1, 1, 1, 1]\n",
    "\n",
    "print(evaluator(A2))"
   ]
  },
  {
   "cell_type": "code",
   "execution_count": null,
   "metadata": {},
   "outputs": [],
   "source": []
  }
 ],
 "metadata": {
  "kernelspec": {
   "display_name": "Python 3",
   "language": "python",
   "name": "python3"
  },
  "language_info": {
   "codemirror_mode": {
    "name": "ipython",
    "version": 3
   },
   "file_extension": ".py",
   "mimetype": "text/x-python",
   "name": "python",
   "nbconvert_exporter": "python",
   "pygments_lexer": "ipython3",
   "version": "3.6.6"
  }
 },
 "nbformat": 4,
 "nbformat_minor": 2
}
