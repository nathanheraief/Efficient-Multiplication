{
 "cells": [
  {
   "cell_type": "markdown",
   "metadata": {},
   "source": [
    "# Essai d'implémentation de la méthode en Python\n",
    "\n",
    "L'implementation suivera la méthode définie par l'article : \n",
    "1. Evaluation des $\\alpha_i$ de $A(X)$ et $B(X)$\n",
    "2. Réalisation des multiplications modulaires de $A(\\alpha_i)xB(\\alpha_i)$\n",
    "3. Calcul des differences divisées $c_i$\n",
    "4. Utilisation du schema d'Horner pour trouver l'expression $C(X) = A(X)*B(X)$"
   ]
  },
  {
   "cell_type": "code",
   "execution_count": 2,
   "metadata": {},
   "outputs": [],
   "source": [
    "from numpy import inf\n",
    "import pandas as pd"
   ]
  },
  {
   "cell_type": "markdown",
   "metadata": {},
   "source": [
    "## 1. Evaluation des $\\alpha_i$ de $A(X)$ et $B(X)$\n",
    "\n",
    "\n",
    "Posons : \n",
    "$\\alpha_0 = 0, \\alpha_1 = 1, \\alpha_2 = -1, \\alpha_3 = 2, \\alpha_4 = -2, \\alpha_5 = 4, \\alpha_6 = -4, \\alpha_7 = 3, \\alpha_8 = \\infty $"
   ]
  },
  {
   "cell_type": "code",
   "execution_count": 3,
   "metadata": {},
   "outputs": [],
   "source": [
    "alpha = [0, 1, -1, 2, -2, 4, -4, 3, inf]\n",
    "#pd.DataFrame(alpha, columns=[\"$\\alpha_0$\", \"$\\alpha_1$\", \"$\\alpha_2$\", \"$\\alpha_3$\", \"$\\alpha_4$\", \"$\\alpha_5$\", \"$\\alpha_6$\", \"$\\alpha_7$\", \"$\\alpha_8$\"])"
   ]
  },
  {
   "cell_type": "markdown",
   "metadata": {},
   "source": [
    "Posons : $A = 4811923705$ et $B  = 2909381271$\n",
    "\n",
    "On les décompose tel que $A = A(100)$ et $B = B(100)$.\n",
    "\n",
    "Il vient : \n",
    "\n",
    "$A(X) = 5 + 37*X + 92 *X^2 + 11 *X^3  +48*X^4$\n",
    "\n",
    "$B(X) = 71 + 12*X + 38 *X^2 + 9 *X^3  +29*X^4$"
   ]
  },
  {
   "cell_type": "code",
   "execution_count": 4,
   "metadata": {},
   "outputs": [],
   "source": [
    "A = [5, 37, 92, 11, 48]\n",
    "B = [71, 12, 38, 9, 29]"
   ]
  },
  {
   "cell_type": "markdown",
   "metadata": {},
   "source": [
    "On définit $A_e$ et $A_o$ tel que : $A = |A_e + A_o|$.\n",
    "\n",
    "Pareillement, pour $B_e$ et $B_o$"
   ]
  },
  {
   "cell_type": "code",
   "execution_count": 5,
   "metadata": {},
   "outputs": [],
   "source": [
    "Ae = A[0::2]\n",
    "Ao = A[1::2]\n",
    "\n",
    "Be = B[0::2]\n",
    "Bo = B[1::2]"
   ]
  },
  {
   "cell_type": "code",
   "execution_count": 6,
   "metadata": {},
   "outputs": [],
   "source": [
    "def evaluate(L):\n",
    "    Le = L[0::2]\n",
    "    Lo = L[1::2]\n",
    "    \n",
    "    local = [0, 0]\n",
    "    result = []\n",
    "    #alpha 0\n",
    "    result.append(A[0])\n",
    "    #alpha 1 et 2\n",
    "    local[0] = sum(Le)+sum(Lo)\n",
    "    local[1] = sum(Le)-sum(Lo)\n",
    "    result.append(local[0])\n",
    "    result.append(local[1])\n",
    "    #alpha 3 et 4\n",
    "    local[0] = Le[0]+Le[1]*2**2+Le[2]*2**4 + (Lo[0]*2 + Lo[1]*2**3)\n",
    "    local[1] = Le[0]+Le[1]*2**2+Le[2]*2**4 - (Lo[0]*2 + Lo[1]*2**3)\n",
    "    result.append(local[0])\n",
    "    result.append(local[1])\n",
    "    #alpha 5 et 6\n",
    "    local[0] = Le[0]+Le[1]*2**4+Le[2]*2**8 + (Lo[0]*2**2 + Lo[1]*2**6)\n",
    "    local[1] = Le[0]+Le[1]*2**4+Le[2]*2**8 - (Lo[0]*2**2 + Lo[1]*2**6)\n",
    "    result.append(local[0])\n",
    "    result.append(local[1])\n",
    "    #alpha 7\n",
    "    local[0] = Le[0]+Le[1]+Le[2]+Le[1]*2**3+Le[2]*2**4+Le[2]*2**6\n",
    "    local[1] = Lo[0]-Lo[1]+Lo[0]*2-Lo[1]*2**2+Lo[1]*2**5\n",
    "    result.append(local[0] + local[1])\n",
    "    return result"
   ]
  },
  {
   "cell_type": "code",
   "execution_count": 7,
   "metadata": {
    "scrolled": true
   },
   "outputs": [
    {
     "name": "stdout",
     "output_type": "stream",
     "text": [
      "[5, 193, 97, 1303, 979, 14617, 12913, 5129]\n",
      "[5, 159, 117, 783, 591, 8727, 7479, 3041]\n"
     ]
    }
   ],
   "source": [
    "print(evaluate(A))\n",
    "print(evaluate(B))"
   ]
  },
  {
   "cell_type": "markdown",
   "metadata": {},
   "source": [
    "## Différence divisée"
   ]
  },
  {
   "cell_type": "code",
   "execution_count": 44,
   "metadata": {},
   "outputs": [],
   "source": [
    "def C(X):\n",
    "    result = 0\n",
    "    for i in range(len(X)):\n",
    "        result += X[i]*2 \n",
    "        \n",
    "\n",
    "def difference(C):\n",
    "    result = 0\n",
    "    size = len(C)-1\n",
    "    for i in range(size):\n",
    "        N = C[i]\n",
    "        D = 1\n",
    "        for j in range(size):\n",
    "            if(i != j):\n",
    "                D *= alpha[j]-alpha[i]\n",
    "        result += N/D\n",
    "    return result\n",
    "    "
   ]
  },
  {
   "cell_type": "code",
   "execution_count": 45,
   "metadata": {
    "scrolled": true
   },
   "outputs": [
    {
     "name": "stdout",
     "output_type": "stream",
     "text": [
      "-0.5\n"
     ]
    }
   ],
   "source": [
    "print(difference([1, -1, 2, -2]))"
   ]
  },
  {
   "cell_type": "code",
   "execution_count": null,
   "metadata": {},
   "outputs": [],
   "source": []
  },
  {
   "cell_type": "code",
   "execution_count": null,
   "metadata": {},
   "outputs": [],
   "source": []
  }
 ],
 "metadata": {
  "kernelspec": {
   "display_name": "Python 3",
   "language": "python",
   "name": "python3"
  },
  "language_info": {
   "codemirror_mode": {
    "name": "ipython",
    "version": 3
   },
   "file_extension": ".py",
   "mimetype": "text/x-python",
   "name": "python",
   "nbconvert_exporter": "python",
   "pygments_lexer": "ipython3",
   "version": "3.6.5"
  }
 },
 "nbformat": 4,
 "nbformat_minor": 2
}
